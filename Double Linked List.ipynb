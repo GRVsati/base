{
 "cells": [
  {
   "cell_type": "markdown",
   "id": "ca65019f",
   "metadata": {},
   "source": [
    "# Double Linked LIst"
   ]
  },
  {
   "cell_type": "code",
   "execution_count": 56,
   "id": "69e2abec",
   "metadata": {},
   "outputs": [],
   "source": [
    "class node:\n",
    "    def __init__(self,prev=None,item = None,nxt=None):\n",
    "        self.prev=prev\n",
    "        self.item=item\n",
    "        self.nxt= nxt\n",
    "        \n",
    "class DLL:\n",
    "    \n",
    "    def __init__(self,start=None):\n",
    "        self.start = start\n",
    "        \n",
    "    def is_empty(self):\n",
    "        return self.start == None\n",
    "    \n",
    "    def insert_at_beg(self,item):\n",
    "        n = node(None,item,self.start)\n",
    "        if not self.is_empty():\n",
    "            self.start.prev = n\n",
    "            \n",
    "        self.start = n\n",
    "        \n",
    "    def insert_at_last(self,item):\n",
    "        temp = self.start\n",
    "        while temp.nxt is not None:\n",
    "            temp = temp.nxt\n",
    "            \n",
    "        n= node(temp,item,None)\n",
    "        if temp==None:\n",
    "            self.start=n\n",
    "        else:\n",
    "            temp.nxt = n\n",
    "            \n",
    "        \n",
    "    def search_(self,item):\n",
    "        temp = self.start\n",
    "        while temp is not None:\n",
    "            if temp.item == item:\n",
    "                return temp\n",
    "            else:\n",
    "                temp = temp.nxt\n",
    "        return None \n",
    "    \n",
    "    def insert_at_mid(self,temp,item):\n",
    "            n = node(temp,item,temp.nxt)\n",
    "            if temp.nxt is not None:\n",
    "                temp.nxt.prev = n\n",
    "                temp.nxt = n\n",
    "        \n",
    "    def print_(self):\n",
    "        temp=self.start\n",
    "        while temp is not None:\n",
    "            print(temp.item, end =\" \")\n",
    "            temp = temp.nxt\n",
    "    \n",
    "    def delete_first(self):\n",
    "        if self.start is not None:\n",
    "            temp = self.start.nxt\n",
    "            self.start = temp\n",
    "            if self.start is not None:\n",
    "                temp.prev = None\n",
    "                \n",
    "    def delete_last(self):\n",
    "        if self.start == None:\n",
    "            print(\"DLL IS EMPTY\")\n",
    "            pass\n",
    "        elif self.start.nxt == None:\n",
    "            self.start = None\n",
    "        else:\n",
    "            temp = self.start\n",
    "            while temp.nxt is not None:\n",
    "                temp= temp.nxt\n",
    "            temp.prev.nxt = None\n",
    "            \n",
    "    def delete_item(self,item):\n",
    "        if self.start == None:\n",
    "            pass\n",
    "        else:  #if list has more than one Node\n",
    "            temp = self.start\n",
    "            while temp is not None:\n",
    "                if temp.item == item:\n",
    "                    if temp.nxt is not None:\n",
    "                        temp.nxt.prev = temp.prev\n",
    "                    if temp.prev is not None:  \n",
    "                        temp.prev.nxt = temp.nxt\n",
    "                    else:\n",
    "                        self.start = temp.nxt    #it measn it is the first node\n",
    "                    break\n",
    "                temp = temp.nxt \n",
    "                \n",
    "   \n",
    "            "
   ]
  },
  {
   "cell_type": "code",
   "execution_count": 57,
   "id": "9723fc97",
   "metadata": {},
   "outputs": [
    {
     "name": "stdout",
     "output_type": "stream",
     "text": [
      "1 2 3 4 5 6 7 8 "
     ]
    }
   ],
   "source": [
    "a = DLL()\n",
    "a.insert_at_beg(6)\n",
    "a.insert_at_beg(4)\n",
    "a.insert_at_beg(3)\n",
    "a.insert_at_beg(2)\n",
    "a.insert_at_beg(1)\n",
    "a.insert_at_last(7)\n",
    "a.insert_at_last(8)\n",
    "a.insert_at_mid(a.search_(4),5)\n",
    "a.print_()\n"
   ]
  },
  {
   "cell_type": "code",
   "execution_count": 58,
   "id": "86d69f1e",
   "metadata": {},
   "outputs": [],
   "source": [
    "a.delete_first()"
   ]
  },
  {
   "cell_type": "code",
   "execution_count": 59,
   "id": "f3b702f1",
   "metadata": {},
   "outputs": [
    {
     "name": "stdout",
     "output_type": "stream",
     "text": [
      "2 3 4 5 6 7 8 "
     ]
    }
   ],
   "source": [
    "a.print_()"
   ]
  },
  {
   "cell_type": "code",
   "execution_count": 60,
   "id": "1fb52576",
   "metadata": {},
   "outputs": [],
   "source": [
    "a.delete_last()"
   ]
  },
  {
   "cell_type": "code",
   "execution_count": 61,
   "id": "d5f62c2f",
   "metadata": {},
   "outputs": [
    {
     "name": "stdout",
     "output_type": "stream",
     "text": [
      "2 3 4 5 6 7 "
     ]
    }
   ],
   "source": [
    "a.print_()"
   ]
  },
  {
   "cell_type": "code",
   "execution_count": 62,
   "id": "11f1df6b",
   "metadata": {},
   "outputs": [],
   "source": [
    "a.delete_item(5)"
   ]
  },
  {
   "cell_type": "code",
   "execution_count": 63,
   "id": "25330b7c",
   "metadata": {},
   "outputs": [
    {
     "name": "stdout",
     "output_type": "stream",
     "text": [
      "2 3 4 6 7 "
     ]
    }
   ],
   "source": [
    "a.print_()"
   ]
  },
  {
   "cell_type": "code",
   "execution_count": 64,
   "id": "6cf037ac",
   "metadata": {},
   "outputs": [],
   "source": [
    "a.delete_last()"
   ]
  },
  {
   "cell_type": "code",
   "execution_count": 65,
   "id": "654a488a",
   "metadata": {},
   "outputs": [],
   "source": [
    "a.delete_first()"
   ]
  },
  {
   "cell_type": "code",
   "execution_count": 66,
   "id": "938760c9",
   "metadata": {},
   "outputs": [
    {
     "name": "stdout",
     "output_type": "stream",
     "text": [
      "3 4 6 "
     ]
    }
   ],
   "source": [
    "a.print_()"
   ]
  },
  {
   "cell_type": "code",
   "execution_count": 67,
   "id": "948bed2b",
   "metadata": {},
   "outputs": [],
   "source": [
    "a.delete_item(6)"
   ]
  },
  {
   "cell_type": "code",
   "execution_count": 68,
   "id": "9a8a3d38",
   "metadata": {},
   "outputs": [
    {
     "name": "stdout",
     "output_type": "stream",
     "text": [
      "3 4 "
     ]
    }
   ],
   "source": [
    "a.print_()"
   ]
  },
  {
   "cell_type": "code",
   "execution_count": 69,
   "id": "d90ecede",
   "metadata": {},
   "outputs": [
    {
     "name": "stdout",
     "output_type": "stream",
     "text": [
      "3 4 "
     ]
    }
   ],
   "source": [
    "a.print_()"
   ]
  },
  {
   "cell_type": "code",
   "execution_count": 70,
   "id": "c5739e95",
   "metadata": {},
   "outputs": [],
   "source": [
    "a.delete_item(3)"
   ]
  },
  {
   "cell_type": "code",
   "execution_count": 71,
   "id": "a30e7dbf",
   "metadata": {},
   "outputs": [
    {
     "name": "stdout",
     "output_type": "stream",
     "text": [
      "4 "
     ]
    }
   ],
   "source": [
    "a.print_()"
   ]
  },
  {
   "cell_type": "code",
   "execution_count": 76,
   "id": "2a43b526",
   "metadata": {},
   "outputs": [],
   "source": [
    "a.delete_item(6)"
   ]
  },
  {
   "cell_type": "code",
   "execution_count": 77,
   "id": "aab21034",
   "metadata": {},
   "outputs": [],
   "source": [
    "a.print_()"
   ]
  },
  {
   "cell_type": "code",
   "execution_count": 78,
   "id": "4b1abaad",
   "metadata": {},
   "outputs": [],
   "source": [
    "a.delete_last()"
   ]
  },
  {
   "cell_type": "code",
   "execution_count": 80,
   "id": "9897e7c7",
   "metadata": {},
   "outputs": [],
   "source": [
    "a.print_()"
   ]
  },
  {
   "cell_type": "code",
   "execution_count": null,
   "id": "0a781557",
   "metadata": {},
   "outputs": [],
   "source": []
  }
 ],
 "metadata": {
  "kernelspec": {
   "display_name": "Python 3 (ipykernel)",
   "language": "python",
   "name": "python3"
  },
  "language_info": {
   "codemirror_mode": {
    "name": "ipython",
    "version": 3
   },
   "file_extension": ".py",
   "mimetype": "text/x-python",
   "name": "python",
   "nbconvert_exporter": "python",
   "pygments_lexer": "ipython3",
   "version": "3.11.4"
  }
 },
 "nbformat": 4,
 "nbformat_minor": 5
}
