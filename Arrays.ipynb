{
 "cells": [
  {
   "cell_type": "markdown",
   "id": "0fd9ab40",
   "metadata": {},
   "source": [
    "# 2 SUM PROBLEM"
   ]
  },
  {
   "cell_type": "markdown",
   "id": "961494c2",
   "metadata": {},
   "source": [
    "Input Format: N = 5, arr[] = {2,6,5,8,11}, target = 14\n",
    "Result: YES (for 1st variant)\n",
    "       [1, 3] (for 2nd variant)\n",
    "Explanation: arr[1] + arr[3] = 14. So, the answer is “YES” for the first variant and [1, 3] for 2nd variant.\n",
    "\n",
    "Example 2:\n",
    "Input Format: N = 5, arr[] = {2,6,5,8,11}, target = 15\n",
    "Result: NO (for 1st variant)\n",
    "\t[-1, -1] (for 2nd variant)"
   ]
  },
  {
   "cell_type": "code",
   "execution_count": 7,
   "id": "0118dd9f",
   "metadata": {},
   "outputs": [
    {
     "name": "stdout",
     "output_type": "stream",
     "text": [
      "(1, 3)\n"
     ]
    }
   ],
   "source": [
    "# Brute\n",
    "def two_sum(arr,n,s):\n",
    "    for i in range(n):\n",
    "        for j in range(i+1,n):\n",
    "            if arr[i] + arr[j] == s:\n",
    "                return i,j\n",
    "    \n",
    "    \n",
    "arr = [2,6,5,8,11]\n",
    "n = len(arr)\n",
    "s = 14\n",
    "print(two_sum(arr,n,s))\n",
    "    "
   ]
  },
  {
   "cell_type": "code",
   "execution_count": 22,
   "id": "4e95cd41",
   "metadata": {},
   "outputs": [
    {
     "name": "stdout",
     "output_type": "stream",
     "text": [
      "[2, 3]\n"
     ]
    }
   ],
   "source": [
    "# Better\n",
    "\n",
    "def twosum(arr,n,s):\n",
    "    d={}\n",
    "    for i in range(n):\n",
    "        num = arr[i]\n",
    "        rem = s-arr[i]\n",
    "        if rem in d:\n",
    "            return [d[rem],i]\n",
    "        \n",
    "        d[num] = i\n",
    "        \n",
    "    return [-1,-1]\n",
    "\n",
    "arr = [2,6,5,11,8]\n",
    "n = len(arr)\n",
    "s = 16\n",
    "print(twosum(arr,n,s))"
   ]
  },
  {
   "cell_type": "code",
   "execution_count": 27,
   "id": "6f18b8b7",
   "metadata": {},
   "outputs": [
    {
     "name": "stdout",
     "output_type": "stream",
     "text": [
      "[6, 8]\n"
     ]
    }
   ],
   "source": [
    "# optimal\n",
    "\n",
    "def twsum(arr,n,s):\n",
    "    left=0\n",
    "    right=n-1\n",
    "    while(left<right):\n",
    "        if arr[left] + arr[right] < s:\n",
    "            left+=1\n",
    "        elif arr[left] +arr[right] > s:\n",
    "            right-=1\n",
    "        elif arr[right] + arr[left] == s:\n",
    "            return [arr[left],arr[right]]\n",
    "arr = [2,6,5,11,8]\n",
    "n = len(arr)\n",
    "s = 14\n",
    "arr.sort()\n",
    "print(twsum(arr,n,s))      \n",
    "        "
   ]
  },
  {
   "cell_type": "markdown",
   "id": "271cd19a",
   "metadata": {},
   "source": [
    "# SORT 0,1,2"
   ]
  },
  {
   "cell_type": "code",
   "execution_count": 48,
   "id": "e92665dc",
   "metadata": {},
   "outputs": [
    {
     "data": {
      "text/plain": [
       "[0, 0, 1, 1, 2, 2]"
      ]
     },
     "execution_count": 48,
     "metadata": {},
     "output_type": "execute_result"
    }
   ],
   "source": [
    "def sor_012(nums):\n",
    "    c0,c1,c2=0,0,0\n",
    "    n = len(nums)\n",
    "    for i in range(0,n):\n",
    "        if nums[i]==0:\n",
    "            c0+=1\n",
    "        if nums[i]==1:\n",
    "            c1+=1\n",
    "        if nums[i]==2:\n",
    "            c2+=1\n",
    "    \n",
    "    for i in range(0,c0):\n",
    "        nums[i]=0\n",
    "    for j in range(c0,c0+c1):\n",
    "        nums[j]=1\n",
    "    for k in range(c1+c0,c0+c1+c2):\n",
    "        nums[k]=2\n",
    "    return nums\n",
    "\n",
    "nums= [2,0,2,1,1,0]\n",
    "sor_012(nums)"
   ]
  },
  {
   "cell_type": "code",
   "execution_count": 61,
   "id": "24f039ce",
   "metadata": {},
   "outputs": [
    {
     "name": "stdout",
     "output_type": "stream",
     "text": [
      "[0, 0, 1, 1, 2, 2]\n"
     ]
    }
   ],
   "source": [
    "# Optimal\n",
    "\n",
    "arr= [2,0,2,1,1,0]\n",
    "n=len(arr)\n",
    "l,m=0,0\n",
    "h=n-1\n",
    "while(m<=h):\n",
    "    if arr[m] == 0:\n",
    "        arr[l],arr[m] = arr[m],arr[l]\n",
    "        l+=1\n",
    "        m+=1\n",
    "    elif arr[m] == 1:\n",
    "        m+=1\n",
    "    else:\n",
    "        arr[m],arr[h] = arr[h],arr[m]\n",
    "        h-=1\n",
    "print(arr)       \n"
   ]
  },
  {
   "cell_type": "markdown",
   "id": "905fc3b1",
   "metadata": {},
   "source": [
    "# Find the Majority Element that occurs more than N/2 times\n"
   ]
  },
  {
   "cell_type": "code",
   "execution_count": 68,
   "id": "6245150d",
   "metadata": {},
   "outputs": [
    {
     "name": "stdout",
     "output_type": "stream",
     "text": [
      "2\n"
     ]
    }
   ],
   "source": [
    "# Better\n",
    "\n",
    "nums = [2,2,1,1,1,2,2]\n",
    "\n",
    "s= len(nums)\n",
    "d = {}\n",
    "for i in nums:\n",
    "    if i in d:\n",
    "        d[i]+=1\n",
    "    else:\n",
    "        d[i] = 1 \n",
    "for key,value in d.items():\n",
    "    if value > s/2:\n",
    "        print(key)\n",
    "    "
   ]
  },
  {
   "cell_type": "code",
   "execution_count": 73,
   "id": "b7394ee4",
   "metadata": {},
   "outputs": [
    {
     "name": "stdout",
     "output_type": "stream",
     "text": [
      "1\n"
     ]
    }
   ],
   "source": [
    "# OPTIMAL , USING MOORE'S ALGORITHM\n",
    "\n",
    "arr = [2,2,1,1,1,2,2,1,1,1,1,1]\n",
    "n = len(arr)\n",
    "cnt =0\n",
    "ele = None\n",
    "\n",
    "for i in range(len(arr)):\n",
    "    if cnt == 0:\n",
    "        ele = arr[i]\n",
    "        cnt+=1\n",
    "    elif ele == arr[i]:\n",
    "        cnt+=1\n",
    "    else:\n",
    "        cnt-=1\n",
    "        \n",
    "cnt1 = 0\n",
    "for i in range(n):\n",
    "    if arr[i] == ele:\n",
    "        cnt1+=1\n",
    "if cnt1 > len(arr)/2:\n",
    "    print(ele)\n"
   ]
  },
  {
   "cell_type": "markdown",
   "id": "0e4b08f9",
   "metadata": {},
   "source": [
    "# MAximum subarray sum"
   ]
  },
  {
   "cell_type": "code",
   "execution_count": 77,
   "id": "0f5de88e",
   "metadata": {},
   "outputs": [
    {
     "name": "stdout",
     "output_type": "stream",
     "text": [
      "6\n"
     ]
    }
   ],
   "source": [
    "# Better\n",
    "def maxsubarraySum(arr,n):\n",
    "    maxi =0\n",
    "    for i in range(n):\n",
    "        sum_=0\n",
    "        for j in range(i,n):\n",
    "            sum_+=arr[j]\n",
    "            maxi = max(sum_,maxi)\n",
    "    return maxi\n",
    "            \n",
    "\n",
    "\n",
    "arr = [ -2, 1, -3, 4, -1, 2, 1, -5, 4]\n",
    "n = len(arr)\n",
    "maxSum = maxsubarraySum(arr, n)\n",
    "print(maxSum)"
   ]
  },
  {
   "cell_type": "code",
   "execution_count": 4,
   "id": "e5356529",
   "metadata": {},
   "outputs": [
    {
     "name": "stdout",
     "output_type": "stream",
     "text": [
      "6\n"
     ]
    }
   ],
   "source": [
    "# Optimal - Using optimal approach (Kadane's Algorithm)\n",
    "\n",
    "\n",
    "def maxsum(arr, n):\n",
    "    maxi = float('-inf')\n",
    "    sum_ = 0\n",
    "    for i in range(n):\n",
    "        sum_ += arr[i]\n",
    "\n",
    "        if sum_ > maxi:\n",
    "            maxi = sum_\n",
    "\n",
    "        if sum_ < 0:\n",
    "            sum_ = 0\n",
    "\n",
    "    return maxi\n",
    "\n",
    "arr = [-2, 1, -3, 4, -1, 2, 1, -5, 4]\n",
    "n = len(arr)\n",
    "maxSum = maxsum(arr, n)\n",
    "print(maxSum)\n",
    "\n",
    "\n",
    "\n",
    "\n",
    "\n"
   ]
  },
  {
   "cell_type": "markdown",
   "id": "8e75dd72",
   "metadata": {},
   "source": [
    "# Printing the Array with maximum sum"
   ]
  },
  {
   "cell_type": "code",
   "execution_count": 3,
   "id": "8c594678",
   "metadata": {},
   "outputs": [
    {
     "name": "stdout",
     "output_type": "stream",
     "text": [
      "6\n",
      "4 -1 2 1 "
     ]
    }
   ],
   "source": [
    "def maxsum(arr, n):\n",
    "    maxi = float('-inf')\n",
    "    sum_ = 0\n",
    "    start = 0 \n",
    "    ansst,ansend = 0,0\n",
    "    for i in range(n):\n",
    "        if sum_ == 0:\n",
    "            start = i\n",
    "        sum_ += arr[i]\n",
    "        \n",
    "        if sum_ > maxi:\n",
    "            maxi = sum_\n",
    "            \n",
    "            ansst = start\n",
    "            ansend = i\n",
    "\n",
    "        if sum_ < 0:\n",
    "            sum_ = 0\n",
    "\n",
    "    return maxi,ansst,ansend\n",
    "\n",
    "arr = [-2, 1, -3, 4, -1, 2, 1, -5, 4]\n",
    "n = len(arr)\n",
    "maxSum,start,end = maxsum(arr, n)\n",
    "print(maxSum)\n",
    "for i in range(start,end+1):\n",
    "    print(arr[i],end = \" \")"
   ]
  },
  {
   "cell_type": "code",
   "execution_count": 22,
   "id": "5cc1b97f",
   "metadata": {},
   "outputs": [
    {
     "name": "stdout",
     "output_type": "stream",
     "text": [
      "0\n"
     ]
    }
   ],
   "source": [
    "arr = [2,4,1]\n",
    "n = len(arr)\n",
    "c=0\n",
    "min_ = arr[0]\n",
    "for i in range(1,n):\n",
    "    if arr[i] < min_:\n",
    "        min_ = arr[i]\n",
    "        c=i\n",
    "maxdiff = 0\n",
    "for i in range(c+1,n):\n",
    "    diff = arr[i]-min_\n",
    "    if diff > maxdiff:\n",
    "        maxdiff = diff\n",
    "    \n",
    "print(maxdiff)"
   ]
  },
  {
   "cell_type": "code",
   "execution_count": 24,
   "id": "b2fe2803",
   "metadata": {},
   "outputs": [
    {
     "name": "stdout",
     "output_type": "stream",
     "text": [
      "5\n"
     ]
    }
   ],
   "source": [
    "price = [7,1,5,3,6,4]\n",
    "maxpro=0\n",
    "Min=float('inf')\n",
    "for i in range(len(price)):\n",
    "    Min = min(Min,price[i])\n",
    "    maxpro = max(maxpro,price[i]-Min)\n",
    "print(maxpro)"
   ]
  },
  {
   "cell_type": "markdown",
   "id": "9e3b0673",
   "metadata": {},
   "source": [
    "# Rearrange array in alternating order(Type 1)"
   ]
  },
  {
   "cell_type": "markdown",
   "id": "b7008818",
   "metadata": {},
   "source": [
    "Postivies = Negatives\n",
    "\n",
    "arr[] = {1,2,-4,-5},\n",
    "N = 4\n",
    "Output:\n",
    "1 -4 2 -5"
   ]
  },
  {
   "cell_type": "code",
   "execution_count": 37,
   "id": "c266c165",
   "metadata": {},
   "outputs": [
    {
     "ename": "IndexError",
     "evalue": "list assignment index out of range",
     "output_type": "error",
     "traceback": [
      "\u001b[1;31m---------------------------------------------------------------------------\u001b[0m",
      "\u001b[1;31mIndexError\u001b[0m                                Traceback (most recent call last)",
      "Cell \u001b[1;32mIn[37], line 7\u001b[0m\n\u001b[0;32m      5\u001b[0m \u001b[38;5;28;01mfor\u001b[39;00m i \u001b[38;5;129;01min\u001b[39;00m \u001b[38;5;28mrange\u001b[39m(\u001b[38;5;241m0\u001b[39m,\u001b[38;5;28mlen\u001b[39m(arr)):\n\u001b[0;32m      6\u001b[0m     \u001b[38;5;28;01mif\u001b[39;00m arr[i] \u001b[38;5;241m>\u001b[39m \u001b[38;5;241m0\u001b[39m:\n\u001b[1;32m----> 7\u001b[0m         l[j]\u001b[38;5;241m=\u001b[39marr[i]\n\u001b[0;32m      8\u001b[0m         j\u001b[38;5;241m+\u001b[39m\u001b[38;5;241m=\u001b[39m\u001b[38;5;241m2\u001b[39m\n\u001b[0;32m      9\u001b[0m     \u001b[38;5;28;01melse\u001b[39;00m:\n",
      "\u001b[1;31mIndexError\u001b[0m: list assignment index out of range"
     ]
    }
   ],
   "source": [
    "arr = [1,2,-4,3,-5,9]\n",
    "l=[0]*len(arr)\n",
    "j=0\n",
    "k=1\n",
    "for i in range(0,len(arr)):\n",
    "    if arr[i] > 0:\n",
    "        l[j]=arr[i]\n",
    "        j+=2\n",
    "    else:\n",
    "        l[k]=arr[i]\n",
    "        k+=2\n",
    "print(l)"
   ]
  },
  {
   "cell_type": "code",
   "execution_count": 42,
   "id": "204701d5",
   "metadata": {},
   "outputs": [
    {
     "name": "stdout",
     "output_type": "stream",
     "text": [
      "[1, -4, 2, -5, 3, -6]\n"
     ]
    }
   ],
   "source": [
    "#  the error was coming beacuse in I/P ther is unqual number of postivie and negative elements.\n",
    "arr = [1,2,-4,3,-5,-6]\n",
    "l=[0]*len(arr)\n",
    "j=0\n",
    "k=1\n",
    "for i in range(0,len(arr)):\n",
    "    if arr[i] > 0:\n",
    "        l[j]=arr[i]\n",
    "        j+=2\n",
    "    else:\n",
    "        l[k]=arr[i]\n",
    "        k+=2\n",
    "print(l)"
   ]
  },
  {
   "cell_type": "markdown",
   "id": "09247211",
   "metadata": {},
   "source": [
    "# Type 2:(Positives != Negatives)"
   ]
  },
  {
   "cell_type": "code",
   "execution_count": 45,
   "id": "56863340",
   "metadata": {},
   "outputs": [
    {
     "name": "stdout",
     "output_type": "stream",
     "text": [
      "[1, -4, 2, -5, 3, 4]\n"
     ]
    }
   ],
   "source": [
    "arr = [1,2,-4,-5,3,4]\n",
    "pos=[]\n",
    "neg=[]\n",
    "\n",
    "for i in range(0, len(arr)):\n",
    "    if arr[i]>0:\n",
    "        pos.append(arr[i])\n",
    "    else:\n",
    "        neg.append(arr[i])\n",
    "        \n",
    "if len(pos) < len(neg):\n",
    "    for i in range(0,len(pos)):\n",
    "        arr[2*i]=pos[i]\n",
    "        arr[2*i+1]=neg[i]\n",
    "        \n",
    "    index=len(pos)*2\n",
    "    for i in range(len(neg)-len(pos)):\n",
    "        arr[index]=neg[i+len(pos)]\n",
    "        index+=1\n",
    "        \n",
    "else:\n",
    "    for i in range(0,len(neg)):\n",
    "        arr[2*i]=pos[i]\n",
    "        arr[2*i+1]=neg[i]\n",
    "        \n",
    "    index=len(neg)*2\n",
    "    for i in range(len(pos)-len(neg)):\n",
    "        arr[index]=pos[i+len(neg)]\n",
    "        index+=1\n",
    "        \n",
    "print(arr)"
   ]
  },
  {
   "cell_type": "markdown",
   "id": "31cabf41",
   "metadata": {},
   "source": [
    "# Leaders in an Array"
   ]
  },
  {
   "cell_type": "code",
   "execution_count": 49,
   "id": "7d47f730",
   "metadata": {},
   "outputs": [
    {
     "name": "stdout",
     "output_type": "stream",
     "text": [
      "22\n",
      "12\n",
      "6\n"
     ]
    }
   ],
   "source": [
    "#Brute\n",
    "arr = [10, 22, 12, 3, 0, 6]\n",
    "\n",
    "for i in range(0,len(arr)):\n",
    "    c=1\n",
    "    for j in range(i+1,len(arr)):\n",
    "        if arr[i]>arr[j]:\n",
    "            continue\n",
    "        else:\n",
    "            c=0\n",
    "    if c == 1:\n",
    "        print(arr[i])\n"
   ]
  },
  {
   "cell_type": "code",
   "execution_count": 54,
   "id": "7d646927",
   "metadata": {},
   "outputs": [
    {
     "name": "stdout",
     "output_type": "stream",
     "text": [
      "[22, 12, 6]\n"
     ]
    }
   ],
   "source": [
    "arr = [10, 22, 12, 3, 0, 6]\n",
    "l=[]\n",
    "n=len(arr)\n",
    "maxi = float(\"-inf\")\n",
    "for i in range(n-1,0,-1):\n",
    "    if arr[i]>maxi:\n",
    "        l.append(arr[i])\n",
    "    maxi = max(maxi,arr[i])\n",
    "    \n",
    "print(l[::-1])"
   ]
  },
  {
   "cell_type": "markdown",
   "id": "11216ee1",
   "metadata": {},
   "source": [
    "# Longest Consecutive sequence in an Array"
   ]
  },
  {
   "cell_type": "code",
   "execution_count": 90,
   "id": "66947a33",
   "metadata": {},
   "outputs": [
    {
     "name": "stdout",
     "output_type": "stream",
     "text": [
      "4\n"
     ]
    }
   ],
   "source": [
    "arr=[100, 200, 1, 3, 2, 4]\n",
    "n = len(arr)\n",
    "arr.sort()\n",
    "c=1\n",
    "for i in range(1,n):\n",
    "    j=i-1\n",
    "    if arr[j]+1 == arr[i]:\n",
    "        c+=1\n",
    "print(c)\n",
    "\n"
   ]
  },
  {
   "cell_type": "code",
   "execution_count": 92,
   "id": "2b4b6fd0",
   "metadata": {},
   "outputs": [
    {
     "name": "stdout",
     "output_type": "stream",
     "text": [
      "[-1, -1, 0, 1, 3, 4, 4, 5, 6, 7, 8, 9]\n",
      "6\n"
     ]
    }
   ],
   "source": [
    "arr=[9,1,4,7,3,-1,0,5,8,-1,6,4]\n",
    "\n",
    "arr.sort()\n",
    "print(arr\n",
    "n = len(arr)\n",
    "lastsmaller=float('-inf')\n",
    "cnt = 0\n",
    "longest =1\n",
    "for i in range(n):\n",
    "    if arr[i]-1 == lastsmaller:\n",
    "        cnt+=1\n",
    "        lastsmaller = arr[i]\n",
    "    elif arr[i]-1 != lastsmaller:\n",
    "        cnt=1\n",
    "        lastsmaller = arr[i]\n",
    "    longest = max(longest, cnt)\n",
    "\n",
    "print(longest)"
   ]
  },
  {
   "cell_type": "code",
   "execution_count": 93,
   "id": "ca12635a",
   "metadata": {},
   "outputs": [
    {
     "name": "stdout",
     "output_type": "stream",
     "text": [
      "2\n"
     ]
    }
   ],
   "source": [
    "arr = [1,2,0,1]\n",
    "arr.sort()  # Sort the array in ascending order\n",
    "n = len(arr)  # Get the length of the sorted array\n",
    "\n",
    "lastsmaller = float('-inf')  # Initialize a variable to keep track of the last smaller element\n",
    "cnt = 0  # Initialize a counter for the current consecutive subsequence\n",
    "longest = 1  # Initialize a variable to store the length of the longest consecutive subsequence, starting at 1\n",
    "\n",
    "for i in range(n):\n",
    "    if arr[i] - 1 == lastsmaller:\n",
    "        cnt += 1\n",
    "        lastsmaller = arr[i]\n",
    "    elif arr[i] - 1 != lastsmaller:\n",
    "        cnt = 1\n",
    "        lastsmaller = arr[i]\n",
    "    longest = max(longest, cnt)\n",
    "\n",
    "print(longest)\n"
   ]
  },
  {
   "cell_type": "code",
   "execution_count": 79,
   "id": "80540d82",
   "metadata": {},
   "outputs": [
    {
     "name": "stdout",
     "output_type": "stream",
     "text": [
      "The longest consecutive sequence is 3\n"
     ]
    }
   ],
   "source": [
    "\n",
    "\n",
    "\n",
    "def longestSuccessiveElements(a):\n",
    "    n = len(a)\n",
    "    if n == 0:\n",
    "        return 0\n",
    "\n",
    "    # sort the array\n",
    "    a.sort()\n",
    "    lastSmaller = float('-inf')\n",
    "    cnt = 0\n",
    "    longest = 1\n",
    "\n",
    "    # find longest sequence\n",
    "    for i in range(n):\n",
    "        if a[i] - 1 == lastSmaller:\n",
    "            # a[i] is the next element of the\n",
    "            # current sequence\n",
    "            cnt += 1\n",
    "            lastSmaller = a[i]\n",
    "        elif a[i] != lastSmaller:\n",
    "            cnt = 1\n",
    "            lastSmaller = a[i]\n",
    "        longest = max(longest, cnt)\n",
    "    return longest\n",
    "\n",
    "a = [1,2,0,1]\n",
    "ans = longestSuccessiveElements(a)\n",
    "print(\"The longest consecutive sequence is\", ans)\n",
    "\n"
   ]
  },
  {
   "cell_type": "code",
   "execution_count": 86,
   "id": "aa061b07",
   "metadata": {},
   "outputs": [
    {
     "name": "stdout",
     "output_type": "stream",
     "text": [
      "4\n"
     ]
    }
   ],
   "source": [
    " # optimal using set data structure\n",
    "    \n",
    "a = [100, 200, 1, 2, 3, 4]\n",
    "\n",
    "st= set()\n",
    "n = len(a)\n",
    "\n",
    "c=0\n",
    "longest=1\n",
    "for i in a:\n",
    "    st.add(i)\n",
    "    \n",
    "for it in st:\n",
    "    if it-1 not in st:\n",
    "        c=1\n",
    "        x=it\n",
    "        while x+1 in st:\n",
    "            c+=1\n",
    "            x+=1\n",
    "        longest = max(longest,c)\n",
    "print(longest)       "
   ]
  },
  {
   "cell_type": "markdown",
   "id": "e9fd58b0",
   "metadata": {},
   "source": [
    "# Set Matrix Zero"
   ]
  },
  {
   "cell_type": "code",
   "execution_count": 94,
   "id": "82423684",
   "metadata": {},
   "outputs": [
    {
     "name": "stdout",
     "output_type": "stream",
     "text": [
      "The Final matrix is:\n",
      "1 0 1 \n",
      "0 0 0 \n",
      "1 0 1 \n"
     ]
    }
   ],
   "source": [
    "def rowmatrix(matrix,i,j,n):\n",
    "    for j in range(0,n):\n",
    "        matrix[i][j] = -1\n",
    "     \n",
    "\n",
    "def colmatrix(matrix,i,j,m):\n",
    "    for i in range(0,m):\n",
    "        matrix[i][j] = -1\n",
    "\n",
    "\n",
    "\n",
    "def zeroMatrix(matrix, n, m):\n",
    "    for i in range(n):\n",
    "        for j in range(m):\n",
    "            if matrix[i][j] == 0:\n",
    "                rowmatrix(matrix,i,j,n)\n",
    "                colmatrix(matrix,i,j,m)\n",
    "                \n",
    "                \n",
    "    for i in range(n):\n",
    "        for j in range(m):\n",
    "            if matrix[i][j] == -1:\n",
    "                matrix[i][j] = 0\n",
    "    \n",
    "    return matrix\n",
    "\n",
    "\n",
    "if __name__ == \"__main__\":\n",
    "\tmatrix = [[1, 1, 1], [1, 0, 1], [1, 1, 1]]\n",
    "\tn = len(matrix)\n",
    "\tm = len(matrix[0])\n",
    "\tans = zeroMatrix(matrix, n, m)\n",
    "\n",
    "\tprint(\"The Final matrix is:\")\n",
    "\tfor row in ans:\n",
    "\t    for ele in row:\n",
    "\t        print(ele, end=\" \")\n",
    "\t    print()\n"
   ]
  },
  {
   "cell_type": "code",
   "execution_count": 9,
   "id": "516842a6",
   "metadata": {},
   "outputs": [
    {
     "name": "stdout",
     "output_type": "stream",
     "text": [
      "1   0   1   \n",
      "\n",
      "0   0   0   \n",
      "\n",
      "1   0   1   \n",
      "\n"
     ]
    }
   ],
   "source": [
    "# Optimal\n",
    "\n",
    "def matrixzero(matrix,m,n):\n",
    "    col0 = 1\n",
    "    for i in range(0,m):\n",
    "        for j in range(0,m):\n",
    "            if matrix[i][j] == 0:\n",
    "                matrix[i][0]=0 \n",
    "                \n",
    "                if j != 0:\n",
    "                    matrix[0][j]=0\n",
    "                else:\n",
    "                    col0 = 0\n",
    "                    \n",
    "    for i in range(1,n):\n",
    "        for j in range(1,m):\n",
    "            if matrix[i][j] != 0:\n",
    "                if matrix[i][0] == 0 or matrix[0][j] == 0:\n",
    "                    matrix[i][j] = 0\n",
    "                    \n",
    "    if matrix[0][0] == 0:\n",
    "        for  j in range(m):\n",
    "            matrix[0][j] =0\n",
    "    \n",
    "    if col0 == 0:\n",
    "        for i in range(n):\n",
    "            matrix[i][0] = 0\n",
    "    \n",
    "    return matrix\n",
    "            \n",
    "                \n",
    "           \n",
    "matrix = [[1, 1, 1], [1, 0, 1], [1, 1, 1]]\n",
    "m = len(matrix)\n",
    "n = len(matrix[0])\n",
    "Printmatrix = matrixzero(matrix,m,n)\n",
    "\n",
    "for i in range(m):\n",
    "    for j in range(n):\n",
    "        print(Printmatrix[i][j], end =\"   \")\n",
    "    print(\"\\n\")\n"
   ]
  },
  {
   "cell_type": "markdown",
   "id": "ae81f52e",
   "metadata": {},
   "source": [
    "\n",
    "# Rotate matrix by 90 degreee"
   ]
  },
  {
   "cell_type": "code",
   "execution_count": 21,
   "id": "110b74ca",
   "metadata": {},
   "outputs": [
    {
     "name": "stdout",
     "output_type": "stream",
     "text": [
      "1 2 3  \n",
      "4 5 6  \n",
      "7 8 9  \n",
      " After 90 rotation\n",
      " \n",
      "7 4 1  \n",
      "8 5 2  \n",
      "9 6 3  \n"
     ]
    }
   ],
   "source": [
    "mat = [[1,2,3],[4,5,6],[7,8,9]]\n",
    "n = len(mat)\n",
    "m = len(mat[0])\n",
    "\n",
    "for i in range(m):\n",
    "    for j in range(n):\n",
    "        print(mat[i][j],end =\" \")\n",
    "    print(\" \")\n",
    "    \n",
    "print(\" After 90 rotation\")\n",
    "print(\" \")\n",
    "\n",
    "for j in range(n):\n",
    "    for i in range(m-1,-1,-1):\n",
    "        print(mat[i][j], end= \" \")\n",
    "    print(\" \")"
   ]
  },
  {
   "cell_type": "code",
   "execution_count": 34,
   "id": "b0e10b49",
   "metadata": {},
   "outputs": [
    {
     "name": "stdout",
     "output_type": "stream",
     "text": [
      "7 4 1  \n",
      "8 5 2  \n",
      "9 6 3  \n"
     ]
    }
   ],
   "source": [
    "# Optimal\n",
    "\n",
    "# find the transponse\n",
    "# the reverse each row\n",
    "\n",
    "def rotate(mat,m,n):\n",
    "    for i in range(n):\n",
    "        for j  in range(i):\n",
    "            mat[i][j],mat[j][i] = mat[j][i],mat[i][j]\n",
    "    \n",
    "    for i in range(n):\n",
    "        mat[i].reverse()\n",
    "    \n",
    "            \n",
    "mat = [[1,2,3],[4,5,6],[7,8,9]]\n",
    "n = len(mat)\n",
    "m = len(mat[0])\n",
    "\n",
    "rotate(mat,m,n)\n",
    "\n",
    "for i in range(n):\n",
    "    for j in range(m):\n",
    "        print(mat[i][j], end= \" \")\n",
    "    print(\" \")"
   ]
  },
  {
   "cell_type": "markdown",
   "id": "6bd5f460",
   "metadata": {},
   "source": [
    "# Count Subarray with given SUM"
   ]
  },
  {
   "cell_type": "code",
   "execution_count": 3,
   "id": "b97ceba1",
   "metadata": {},
   "outputs": [
    {
     "name": "stdout",
     "output_type": "stream",
     "text": [
      "2\n"
     ]
    }
   ],
   "source": [
    "a = [3,1,2,4]\n",
    "k=6\n",
    "c=0\n",
    "for i in range(len(a)):\n",
    "    sum =0\n",
    "    for j in range(i,len(a)):\n",
    "        sum+=a[j]\n",
    "        if sum == k:\n",
    "            c+=1\n",
    "print(c)"
   ]
  },
  {
   "cell_type": "markdown",
   "id": "05d10d87",
   "metadata": {},
   "source": [
    "# Pascal triangle"
   ]
  },
  {
   "cell_type": "code",
   "execution_count": 1,
   "id": "7a6fa966",
   "metadata": {},
   "outputs": [
    {
     "name": "stdout",
     "output_type": "stream",
     "text": [
      "[1, 4, 6, 4, 1]\n"
     ]
    }
   ],
   "source": [
    "# print row of pascal triangle\n",
    " \n",
    "def ncr(n,r):\n",
    "    res = 1\n",
    "    for i in range(0,r):\n",
    "        res *= (n-i)\n",
    "        res //= (i+1)\n",
    "    return res\n",
    "\n",
    "def ncrow(n):\n",
    "    l=[]\n",
    "    for i in range(0,n):\n",
    "        l.append(ncr(n-1,i))\n",
    "    return l\n",
    "\n",
    "ans = ncrow(5)\n",
    "print(ans)\n"
   ]
  },
  {
   "cell_type": "code",
   "execution_count": 2,
   "id": "b6cf9764",
   "metadata": {},
   "outputs": [
    {
     "name": "stdout",
     "output_type": "stream",
     "text": [
      "[1, 4, 6, 4, 1]\n"
     ]
    }
   ],
   "source": [
    "# Optimal approach to print row\n",
    "def rowprint(n):\n",
    "    ans = 1\n",
    "    l=[]\n",
    "    l.append(ans)\n",
    "    for i in range(1,n):\n",
    "        ans *= (n-i)\n",
    "        ans //= (i)\n",
    "        l.append(ans)\n",
    "    print(l)\n",
    "    \n",
    "rowprint(5)"
   ]
  },
  {
   "cell_type": "markdown",
   "id": "f60f6722",
   "metadata": {},
   "source": [
    "# 3 SUM"
   ]
  },
  {
   "cell_type": "code",
   "execution_count": 3,
   "id": "1de9e416",
   "metadata": {},
   "outputs": [
    {
     "name": "stdout",
     "output_type": "stream",
     "text": [
      "[-1 -1 2 ] [-1 0 1 ] \n"
     ]
    }
   ],
   "source": [
    "#Optimal\n",
    "def triplet(n, arr):\n",
    "    ans = []\n",
    "    arr.sort()\n",
    "    for i in range(n):\n",
    "        # remove duplicates:\n",
    "        if i != 0 and arr[i] == arr[i - 1]:\n",
    "            continue\n",
    "\n",
    "        # moving 2 pointers:\n",
    "        j = i + 1\n",
    "        k = n - 1\n",
    "        while j < k:\n",
    "            total_sum = arr[i] + arr[j] + arr[k]\n",
    "            if total_sum < 0:\n",
    "                j += 1\n",
    "            elif total_sum > 0:\n",
    "                k -= 1\n",
    "            else:\n",
    "                temp = [arr[i], arr[j], arr[k]]\n",
    "                ans.append(temp)\n",
    "                j += 1\n",
    "                k -= 1\n",
    "                # skip the duplicates:\n",
    "                while j < k and arr[j] == arr[j - 1]:\n",
    "                    j += 1\n",
    "                while j < k and arr[k] == arr[k + 1]:\n",
    "                    k -= 1\n",
    "\n",
    "    return ans\n",
    "\n",
    "\n",
    "arr = [-1, 0, 1, 2, -1, -4]\n",
    "n = len(arr)\n",
    "ans = triplet(n, arr)\n",
    "for it in ans:\n",
    "    print(\"[\", end=\"\")\n",
    "    for i in it:\n",
    "        print(i, end=\" \")\n",
    "    print(\"]\", end=\" \")\n",
    "print()\n",
    "\n"
   ]
  },
  {
   "cell_type": "code",
   "execution_count": null,
   "id": "f22ca554",
   "metadata": {},
   "outputs": [],
   "source": []
  }
 ],
 "metadata": {
  "kernelspec": {
   "display_name": "Python 3 (ipykernel)",
   "language": "python",
   "name": "python3"
  },
  "language_info": {
   "codemirror_mode": {
    "name": "ipython",
    "version": 3
   },
   "file_extension": ".py",
   "mimetype": "text/x-python",
   "name": "python",
   "nbconvert_exporter": "python",
   "pygments_lexer": "ipython3",
   "version": "3.11.4"
  }
 },
 "nbformat": 4,
 "nbformat_minor": 5
}
