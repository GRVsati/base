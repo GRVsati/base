{
 "cells": [
  {
   "cell_type": "markdown",
   "id": "aa13959c",
   "metadata": {},
   "source": [
    "## Single Linked creation"
   ]
  },
  {
   "cell_type": "code",
   "execution_count": null,
   "id": "eaa81614",
   "metadata": {},
   "outputs": [],
   "source": []
  },
  {
   "cell_type": "code",
   "execution_count": 1,
   "id": "b4fed65c",
   "metadata": {},
   "outputs": [
    {
     "name": "stdout",
     "output_type": "stream",
     "text": [
      "7 2 6 5 "
     ]
    }
   ],
   "source": [
    "class node:\n",
    "    def __init__(self,item = None,nxt = None):\n",
    "        self.item = item\n",
    "        self.nxt =  nxt\n",
    "        \n",
    "class SLL:\n",
    "    def __init__(self,start = None):\n",
    "        self.start = start\n",
    "        \n",
    "    def is_empty(self):\n",
    "        return self.start == None\n",
    "    \n",
    "    def insert_at_beginning(self,data):\n",
    "        n = node(data,self.start)\n",
    "        self.start=n\n",
    "        \n",
    "    def insert_at_last(self,data):\n",
    "        n=node(data)\n",
    "        if not self.is_empty():\n",
    "            temp = self.start\n",
    "            while temp.nxt is not None:\n",
    "                temp = temp.nxt\n",
    "            temp.nxt = n\n",
    "        else:\n",
    "            self.start = n\n",
    "            \n",
    "    def search_(self,data):\n",
    "        temp = self.start\n",
    "        while temp is not None:\n",
    "            if temp.item == data:\n",
    "                return temp\n",
    "            else:\n",
    "                temp = temp.nxt\n",
    "        return None    #If data is not found in the list\n",
    "            \n",
    "    def print_list(self):\n",
    "        temp = self.start\n",
    "        while temp is not None:\n",
    "            print(temp.item, end = \" \")\n",
    "            temp = temp.nxt\n",
    "    \n",
    "    def insert_after(self,ele,data):\n",
    "        temp = self.search_(ele)\n",
    "        if temp is not None:\n",
    "            n = node(data,temp.nxt)\n",
    "            temp.nxt=n\n",
    "            \n",
    "            \n",
    "    def delete_at_first(self):\n",
    "        if self.start is not None:\n",
    "            self.start=self.start.nxt\n",
    "        #self.print_list() \n",
    "        \n",
    "    def delete_last(self):\n",
    "        if self.start is None:  #list is empty\n",
    "            pass\n",
    "        elif self.start.nxt is None: #list has one element only\n",
    "            self.start = None\n",
    "        else:\n",
    "            temp = self.start\n",
    "            while temp.nxt.nxt is not None:\n",
    "                temp= temp.nxt\n",
    "            temp.nxt = None\n",
    "            \n",
    "    def delete_betw(self,data):\n",
    "        if self.start is None: #list is empty\n",
    "            pass\n",
    "        if self.start.nxt is None: # list has only one element\n",
    "            if self.start.item == data:#if the only present element is to be deleted\n",
    "                self.start = None\n",
    "        else:\n",
    "            temp = self.start\n",
    "            while temp.nxt is not None:\n",
    "                if temp.nxt.item == data:\n",
    "                    temp.nxt = temp.nxt.nxt\n",
    "                    break\n",
    "                temp = temp.nxt\n",
    "        \n",
    "a = SLL()\n",
    "a.insert_at_beginning(5)\n",
    "a.insert_at_beginning(6)\n",
    "a.insert_at_beginning(7)\n",
    "\n",
    "a.insert_after(7,2)\n",
    "\n",
    "a.print_list()"
   ]
  },
  {
   "cell_type": "code",
   "execution_count": 2,
   "id": "118ed56d",
   "metadata": {},
   "outputs": [],
   "source": [
    "\n",
    "a.insert_after(5,9)"
   ]
  },
  {
   "cell_type": "code",
   "execution_count": 3,
   "id": "eede1fd9",
   "metadata": {},
   "outputs": [
    {
     "name": "stdout",
     "output_type": "stream",
     "text": [
      "7 2 6 5 9 "
     ]
    }
   ],
   "source": [
    "a.print_list()"
   ]
  },
  {
   "cell_type": "code",
   "execution_count": 4,
   "id": "baa9d289",
   "metadata": {},
   "outputs": [],
   "source": [
    "a.insert_at_beginning(3)\n"
   ]
  },
  {
   "cell_type": "code",
   "execution_count": 5,
   "id": "cd9e73dc",
   "metadata": {},
   "outputs": [
    {
     "name": "stdout",
     "output_type": "stream",
     "text": [
      "3 7 2 6 5 9 "
     ]
    }
   ],
   "source": [
    "a.print_list()"
   ]
  },
  {
   "cell_type": "code",
   "execution_count": null,
   "id": "ec20de27",
   "metadata": {},
   "outputs": [],
   "source": []
  }
 ],
 "metadata": {
  "kernelspec": {
   "display_name": "Python 3 (ipykernel)",
   "language": "python",
   "name": "python3"
  },
  "language_info": {
   "codemirror_mode": {
    "name": "ipython",
    "version": 3
   },
   "file_extension": ".py",
   "mimetype": "text/x-python",
   "name": "python",
   "nbconvert_exporter": "python",
   "pygments_lexer": "ipython3",
   "version": "3.11.4"
  }
 },
 "nbformat": 4,
 "nbformat_minor": 5
}
