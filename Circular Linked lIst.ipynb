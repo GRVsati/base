{
 "cells": [
  {
   "cell_type": "markdown",
   "id": "aabb08cf",
   "metadata": {},
   "source": [
    "# Circular Linked List"
   ]
  },
  {
   "cell_type": "code",
   "execution_count": 41,
   "id": "ac532736",
   "metadata": {},
   "outputs": [],
   "source": [
    "class node:\n",
    "    def __init__(self,item=None,Next=None):\n",
    "        self.item=item\n",
    "        self.Next=Next\n",
    "        \n",
    "class CLL:\n",
    "    def __init__(self,last = None):\n",
    "        self.last=last  #instance variale that pointing to the last element of the list\n",
    "    \n",
    "    def is_empty(self):\n",
    "        return self.last==None\n",
    "    \n",
    "    def insert_at_first(self,item):\n",
    "        n=node(item)\n",
    "        if self.is_empty():\n",
    "            n.Next=n\n",
    "            self.last=n\n",
    "        else:\n",
    "            n.Next=self.last.Next\n",
    "            self.last.Next=n\n",
    "            \n",
    "    \n",
    "    def insert_at_last(self,item):\n",
    "        n=node(item)\n",
    "        if self.is_empty():\n",
    "            n.Next=n\n",
    "            self.last=n\n",
    "        else:\n",
    "            n.Next=self.last.Next\n",
    "            self.last.Next=n\n",
    "            self.last = n\n",
    "            \n",
    "    def search_(self, item):\n",
    "        if self.is_empty():\n",
    "            return None\n",
    "        temp = self.last.Next\n",
    "        while temp != self.last:\n",
    "            if temp.item == item:\n",
    "                return temp\n",
    "            temp=temp.Next\n",
    "        if temp.item == item:# temp is pointing to last node\n",
    "            return temp\n",
    "        return None\n",
    "    \n",
    "    def insert_after(self,temp,item):\n",
    "        if temp is not None:\n",
    "            n=node(item,temp.Next)\n",
    "            temp.Next=n\n",
    "            if temp == self.last:\n",
    "                temp.Next=n\n",
    "                self.last = n\n",
    "            \n",
    "    def print_list(self):\n",
    "        if not self.is_empty():\n",
    "            temp = self.last.Next\n",
    "            while temp != self.last:\n",
    "                print(temp.item, end = \" \")\n",
    "                temp=temp.Next\n",
    "            print(temp.item)\n",
    "        else:\n",
    "            print(\"list is empty\")\n",
    "    \n",
    "    def delete_first(self):\n",
    "        if not self.is_empty():\n",
    "            if self.last.Next == self.last:\n",
    "                self.last = None\n",
    "                \n",
    "            else:\n",
    "                temp = self.last.Next\n",
    "                self.last.Next=temp.Next\n",
    "                \n",
    "    def delete_last(self):\n",
    "        if not self.is_empty():\n",
    "            if self.last.Next == self.last:\n",
    "                self.last = None\n",
    "            else:\n",
    "                temp = self.last.Next\n",
    "                while temp.Next != self.last:\n",
    "                    temp = temp.Next\n",
    "                temp.Next=self.last.Next\n",
    "                self.last=temp\n",
    "                \n",
    "    def del_mid(self,item):\n",
    "        if not self.is_empty():#list is not empty and there is only node that matched with item\n",
    "            if self.last.Next == self.last:\n",
    "                if item == self.last.item:\n",
    "                    self.last = None\n",
    "                    \n",
    "            else:\n",
    "                if self.last.Next.item == item: #more than one element in the list\n",
    "                    self.delete_first()\n",
    "                else:\n",
    "                    temp = self.last.Next\n",
    "                    while temp.Next.item != item:\n",
    "                        temp = temp.Next\n",
    "                    temp.Next = temp.Next.Next\n",
    "        \n",
    "                    "
   ]
  },
  {
   "cell_type": "code",
   "execution_count": 42,
   "id": "ca5cbf93",
   "metadata": {},
   "outputs": [],
   "source": [
    "a=CLL()"
   ]
  },
  {
   "cell_type": "code",
   "execution_count": 24,
   "id": "ce35141a",
   "metadata": {},
   "outputs": [],
   "source": [
    "a.insert_at_first(6)"
   ]
  },
  {
   "cell_type": "code",
   "execution_count": 25,
   "id": "9540c14c",
   "metadata": {},
   "outputs": [
    {
     "name": "stdout",
     "output_type": "stream",
     "text": [
      "6\n"
     ]
    }
   ],
   "source": [
    "a.print_list()"
   ]
  },
  {
   "cell_type": "code",
   "execution_count": 44,
   "id": "fdb2e640",
   "metadata": {},
   "outputs": [],
   "source": [
    "a.insert_at_last(5)"
   ]
  },
  {
   "cell_type": "code",
   "execution_count": 27,
   "id": "5ff16bcf",
   "metadata": {},
   "outputs": [
    {
     "name": "stdout",
     "output_type": "stream",
     "text": [
      "6 5\n"
     ]
    }
   ],
   "source": [
    "a.print_list()"
   ]
  },
  {
   "cell_type": "code",
   "execution_count": 28,
   "id": "9bfe20e7",
   "metadata": {},
   "outputs": [],
   "source": [
    "a.insert_at_last(8)"
   ]
  },
  {
   "cell_type": "code",
   "execution_count": 29,
   "id": "8509e86c",
   "metadata": {},
   "outputs": [
    {
     "name": "stdout",
     "output_type": "stream",
     "text": [
      "6 5 8\n"
     ]
    }
   ],
   "source": [
    "a.print_list()"
   ]
  },
  {
   "cell_type": "code",
   "execution_count": 177,
   "id": "95a36d47",
   "metadata": {},
   "outputs": [],
   "source": [
    "a.insert_after(a.search_(5),7)"
   ]
  },
  {
   "cell_type": "code",
   "execution_count": 178,
   "id": "e830c4d1",
   "metadata": {},
   "outputs": [
    {
     "name": "stdout",
     "output_type": "stream",
     "text": [
      "6 5 7 8\n"
     ]
    }
   ],
   "source": [
    "a.print_list()"
   ]
  },
  {
   "cell_type": "code",
   "execution_count": 144,
   "id": "cdfbb30b",
   "metadata": {},
   "outputs": [],
   "source": [
    "a.delete_first()"
   ]
  },
  {
   "cell_type": "code",
   "execution_count": 145,
   "id": "0afb17b3",
   "metadata": {},
   "outputs": [
    {
     "name": "stdout",
     "output_type": "stream",
     "text": [
      "5 7 7 8\n"
     ]
    }
   ],
   "source": [
    "a.print_list()"
   ]
  },
  {
   "cell_type": "code",
   "execution_count": 146,
   "id": "3e7cc01a",
   "metadata": {},
   "outputs": [],
   "source": [
    "a.delete_last()"
   ]
  },
  {
   "cell_type": "code",
   "execution_count": 147,
   "id": "b533fb91",
   "metadata": {},
   "outputs": [
    {
     "name": "stdout",
     "output_type": "stream",
     "text": [
      "5 7 7\n"
     ]
    }
   ],
   "source": [
    "a.print_list()"
   ]
  },
  {
   "cell_type": "raw",
   "id": "71385f06",
   "metadata": {},
   "source": [
    "a.insert_last(9)"
   ]
  },
  {
   "cell_type": "code",
   "execution_count": 148,
   "id": "b9c7971e",
   "metadata": {},
   "outputs": [],
   "source": [
    "a.insert_at_last(9)"
   ]
  },
  {
   "cell_type": "code",
   "execution_count": 149,
   "id": "076a8f5c",
   "metadata": {},
   "outputs": [
    {
     "name": "stdout",
     "output_type": "stream",
     "text": [
      "5 7 7 9\n"
     ]
    }
   ],
   "source": [
    "a.print_list()"
   ]
  },
  {
   "cell_type": "code",
   "execution_count": 150,
   "id": "71ae9c83",
   "metadata": {},
   "outputs": [],
   "source": [
    "a.del_mid(7)"
   ]
  },
  {
   "cell_type": "code",
   "execution_count": 152,
   "id": "2a0e1d58",
   "metadata": {},
   "outputs": [
    {
     "name": "stdout",
     "output_type": "stream",
     "text": [
      "5 7 7 9\n"
     ]
    }
   ],
   "source": [
    "a.print_list()"
   ]
  },
  {
   "cell_type": "code",
   "execution_count": 153,
   "id": "5baa6bbf",
   "metadata": {},
   "outputs": [],
   "source": [
    "a.del_mid(7)"
   ]
  },
  {
   "cell_type": "code",
   "execution_count": 154,
   "id": "aa6bbf87",
   "metadata": {},
   "outputs": [
    {
     "name": "stdout",
     "output_type": "stream",
     "text": [
      "5 7 7 9\n"
     ]
    }
   ],
   "source": [
    "a.print_list()"
   ]
  },
  {
   "cell_type": "code",
   "execution_count": 155,
   "id": "4771fc54",
   "metadata": {},
   "outputs": [],
   "source": [
    "a.del_mid(7)"
   ]
  },
  {
   "cell_type": "code",
   "execution_count": 156,
   "id": "25bdf039",
   "metadata": {},
   "outputs": [
    {
     "name": "stdout",
     "output_type": "stream",
     "text": [
      "5 7 7 9\n"
     ]
    }
   ],
   "source": [
    "a.print_list()"
   ]
  },
  {
   "cell_type": "code",
   "execution_count": null,
   "id": "c753ecf8",
   "metadata": {},
   "outputs": [],
   "source": []
  },
  {
   "cell_type": "code",
   "execution_count": 157,
   "id": "c401139c",
   "metadata": {},
   "outputs": [],
   "source": [
    "a.del_mid(5)"
   ]
  },
  {
   "cell_type": "code",
   "execution_count": 158,
   "id": "6341f525",
   "metadata": {},
   "outputs": [
    {
     "name": "stdout",
     "output_type": "stream",
     "text": [
      "7 7 9\n"
     ]
    }
   ],
   "source": [
    "a.print_list()"
   ]
  },
  {
   "cell_type": "code",
   "execution_count": 159,
   "id": "df51e580",
   "metadata": {},
   "outputs": [],
   "source": [
    "a.del_mid(9)"
   ]
  },
  {
   "cell_type": "code",
   "execution_count": 160,
   "id": "0e6b3f3e",
   "metadata": {},
   "outputs": [
    {
     "name": "stdout",
     "output_type": "stream",
     "text": [
      "7 7\n"
     ]
    }
   ],
   "source": [
    "a.print_list()"
   ]
  },
  {
   "cell_type": "code",
   "execution_count": 161,
   "id": "56e84a60",
   "metadata": {},
   "outputs": [],
   "source": [
    "a.del_mid(7)"
   ]
  },
  {
   "cell_type": "code",
   "execution_count": 162,
   "id": "b087137d",
   "metadata": {},
   "outputs": [
    {
     "name": "stdout",
     "output_type": "stream",
     "text": [
      "7\n"
     ]
    }
   ],
   "source": [
    "a.print_list()"
   ]
  },
  {
   "cell_type": "code",
   "execution_count": 163,
   "id": "19a04419",
   "metadata": {},
   "outputs": [],
   "source": [
    "a.insert_at_first(6)"
   ]
  },
  {
   "cell_type": "code",
   "execution_count": 164,
   "id": "64eac95c",
   "metadata": {},
   "outputs": [],
   "source": [
    "a.insert_at_first(5)"
   ]
  },
  {
   "cell_type": "code",
   "execution_count": 165,
   "id": "f9626c0f",
   "metadata": {},
   "outputs": [
    {
     "name": "stdout",
     "output_type": "stream",
     "text": [
      "5 6 7\n"
     ]
    }
   ],
   "source": [
    "a.print_list()"
   ]
  },
  {
   "cell_type": "code",
   "execution_count": 166,
   "id": "85454006",
   "metadata": {},
   "outputs": [],
   "source": [
    "a.del_mid(6)"
   ]
  },
  {
   "cell_type": "code",
   "execution_count": 179,
   "id": "2cdbb2a1",
   "metadata": {},
   "outputs": [
    {
     "name": "stdout",
     "output_type": "stream",
     "text": [
      "6 5 7 8\n"
     ]
    }
   ],
   "source": [
    "a.print_list()"
   ]
  },
  {
   "cell_type": "code",
   "execution_count": 180,
   "id": "b1bead01",
   "metadata": {},
   "outputs": [],
   "source": [
    "a.del_mid(5)"
   ]
  },
  {
   "cell_type": "code",
   "execution_count": 30,
   "id": "92f86129",
   "metadata": {},
   "outputs": [
    {
     "name": "stdout",
     "output_type": "stream",
     "text": [
      "6 5 8\n"
     ]
    }
   ],
   "source": [
    "a.print_list()"
   ]
  },
  {
   "cell_type": "code",
   "execution_count": 31,
   "id": "5ef3f364",
   "metadata": {},
   "outputs": [],
   "source": [
    "a.del_mid(5)"
   ]
  },
  {
   "cell_type": "code",
   "execution_count": 32,
   "id": "add74197",
   "metadata": {},
   "outputs": [
    {
     "name": "stdout",
     "output_type": "stream",
     "text": [
      "6 8\n"
     ]
    }
   ],
   "source": [
    "a.print_list()"
   ]
  },
  {
   "cell_type": "code",
   "execution_count": 33,
   "id": "a3d98c05",
   "metadata": {},
   "outputs": [],
   "source": [
    "a.del_mid(6)"
   ]
  },
  {
   "cell_type": "code",
   "execution_count": 34,
   "id": "9ad63397",
   "metadata": {},
   "outputs": [
    {
     "name": "stdout",
     "output_type": "stream",
     "text": [
      "8\n"
     ]
    }
   ],
   "source": [
    "a.print_list()"
   ]
  },
  {
   "cell_type": "code",
   "execution_count": 46,
   "id": "d2db5703",
   "metadata": {},
   "outputs": [],
   "source": [
    "a.del_mid(5)"
   ]
  },
  {
   "cell_type": "code",
   "execution_count": 47,
   "id": "6c389dae",
   "metadata": {},
   "outputs": [
    {
     "name": "stdout",
     "output_type": "stream",
     "text": [
      "list is empty\n"
     ]
    }
   ],
   "source": [
    "a.print_list()"
   ]
  },
  {
   "cell_type": "code",
   "execution_count": 50,
   "id": "4cf242a2",
   "metadata": {},
   "outputs": [
    {
     "name": "stdout",
     "output_type": "stream",
     "text": [
      "5\n"
     ]
    }
   ],
   "source": []
  },
  {
   "cell_type": "code",
   "execution_count": null,
   "id": "c9ffb4fe",
   "metadata": {},
   "outputs": [],
   "source": []
  }
 ],
 "metadata": {
  "kernelspec": {
   "display_name": "Python 3 (ipykernel)",
   "language": "python",
   "name": "python3"
  },
  "language_info": {
   "codemirror_mode": {
    "name": "ipython",
    "version": 3
   },
   "file_extension": ".py",
   "mimetype": "text/x-python",
   "name": "python",
   "nbconvert_exporter": "python",
   "pygments_lexer": "ipython3",
   "version": "3.11.4"
  }
 },
 "nbformat": 4,
 "nbformat_minor": 5
}
